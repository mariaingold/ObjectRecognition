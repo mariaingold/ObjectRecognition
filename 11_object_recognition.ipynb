{
  "nbformat": 4,
  "nbformat_minor": 0,
  "metadata": {
    "colab": {
      "provenance": []
    },
    "kernelspec": {
      "name": "python3",
      "display_name": "Python 3"
    },
    "language_info": {
      "name": "python"
    }
  },
  "cells": [
    {
      "cell_type": "markdown",
      "source": [
        "# NEURAL NETWORK OBJECT RECOGNITION"
      ],
      "metadata": {
        "id": "zHTlSvJtN_OT"
      }
    },
    {
      "cell_type": "markdown",
      "source": [
        "## PROJECT\n",
        "\n",
        "UoEO Machine Learning\n",
        "\n",
        "Assignment Due Date: 20 January, 2025"
      ],
      "metadata": {
        "id": "X8397smkNpq_"
      }
    },
    {
      "cell_type": "markdown",
      "source": [
        "## AUTHOR\n",
        "\n",
        "Maria Ingold"
      ],
      "metadata": {
        "id": "BZxlu898N65a"
      }
    },
    {
      "cell_type": "markdown",
      "source": [
        "## PROJECT DESCRIPTION\n",
        "\n",
        "Your ML model should address following points:\n",
        "1. Introduction: Introduce CIFAR-10 and perform basic Exploratory Data Analysis (EDA)\n",
        "2. Partition and Validation: Method to partition the validation set from the training data, insights into metadata, importance of separate validation.\n",
        "3. Artificial Neural Network Architecture: Elaborate.\n",
        "4. Activation Function: What and why selected.\n",
        "5. Loss Function: Describe what and why implemented.\n",
        "6. Epochs and Batch Size: Number and why.\n",
        "7. Evalution: Insights on Neural Network design elements strategy.\n",
        "8. Conclusion: Reflections on learnings acquired.\n"
      ],
      "metadata": {
        "id": "FQ-vvsbxOOjU"
      }
    },
    {
      "cell_type": "markdown",
      "source": [
        "## IMPORT"
      ],
      "metadata": {
        "id": "2ZV0ClLuOiee"
      }
    },
    {
      "cell_type": "code",
      "source": [
        "import keras\n",
        "from keras.datasets import cifar10 # import the image dataset"
      ],
      "metadata": {
        "id": "wzqApMm0OZ2v"
      },
      "execution_count": 1,
      "outputs": []
    }
  ]
}